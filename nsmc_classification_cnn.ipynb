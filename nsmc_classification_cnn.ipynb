{
  "nbformat": 4,
  "nbformat_minor": 0,
  "metadata": {
    "accelerator": "GPU",
    "colab": {
      "name": "nsmc_classification_cnn.ipynb",
      "provenance": [],
      "collapsed_sections": [],
      "toc_visible": true,
      "include_colab_link": true
    },
    "kernelspec": {
      "display_name": "Python 3",
      "language": "python",
      "name": "python3"
    },
    "language_info": {
      "codemirror_mode": {
        "name": "ipython",
        "version": 3
      },
      "file_extension": ".py",
      "mimetype": "text/x-python",
      "name": "python",
      "nbconvert_exporter": "python",
      "pygments_lexer": "ipython3",
      "version": "3.6.12"
    },
    "pycharm": {
      "stem_cell": {
        "cell_type": "raw",
        "metadata": {
          "collapsed": false
        },
        "source": []
      }
    }
  },
  "cells": [
    {
      "cell_type": "markdown",
      "metadata": {
        "id": "view-in-github",
        "colab_type": "text"
      },
      "source": [
        "<a href=\"https://colab.research.google.com/github/tgresearch/DSA-Python/blob/main/nsmc_classification_cnn.ipynb\" target=\"_parent\"><img src=\"https://colab.research.google.com/assets/colab-badge.svg\" alt=\"Open In Colab\"/></a>"
      ]
    },
    {
      "cell_type": "markdown",
      "metadata": {
        "id": "IzZmw9F9nVab"
      },
      "source": [
        "# 네이버 영화 리뷰 감성분류 모델 구현\n",
        "- 데이터 전처리 : nsmc_preprocessing.ipynb"
      ]
    },
    {
      "cell_type": "markdown",
      "metadata": {
        "id": "AQVORZhu8r1G"
      },
      "source": [
        "## 라이브러리 임포트"
      ]
    },
    {
      "cell_type": "code",
      "metadata": {
        "id": "F4sELMwq8mF0"
      },
      "source": [
        "import os\n",
        "import json\n",
        "import numpy as np\n",
        "import pandas as pd\n",
        "from tqdm import tqdm\n",
        "import matplotlib.pyplot as plt\n",
        "\n",
        "import tensorflow as tf\n",
        "from tensorflow.keras import layers\n",
        "from tensorflow.keras.preprocessing.sequence import pad_sequences\n",
        "from tensorflow.keras.callbacks import EarlyStopping, ModelCheckpoint"
      ],
      "execution_count": 1,
      "outputs": []
    },
    {
      "cell_type": "markdown",
      "metadata": {
        "id": "2sehjcDc9CXt"
      },
      "source": [
        "## 구글 드라이브 마운트"
      ]
    },
    {
      "cell_type": "code",
      "metadata": {
        "id": "Ch6KYdkW9B0q",
        "colab": {
          "base_uri": "https://localhost:8080/"
        },
        "outputId": "9e84b45d-3dd5-4c7a-b85b-4f4c18dafc7d"
      },
      "source": [
        "from google.colab import drive\n",
        "drive.mount('/content/drive')"
      ],
      "execution_count": 2,
      "outputs": [
        {
          "output_type": "stream",
          "text": [
            "Mounted at /content/drive\n"
          ],
          "name": "stdout"
        }
      ]
    },
    {
      "cell_type": "markdown",
      "metadata": {
        "id": "4-DlE0Wz81dh"
      },
      "source": [
        "## 학습 데이터 로드"
      ]
    },
    {
      "cell_type": "code",
      "metadata": {
        "id": "nOKSrKbK8xn2"
      },
      "source": [
        "DATA_PATH = '/content/drive/MyDrive/nlpdata/nsmc/'\n",
        "\n",
        "train_input = np.load(open(DATA_PATH + 'train_input.npy', 'rb'))\n",
        "train_label = np.load(open(DATA_PATH + 'train_label.npy', 'rb'))\n",
        "prepro_configs = json.load(open(DATA_PATH + 'data_configs.json', 'r'))"
      ],
      "execution_count": 3,
      "outputs": []
    },
    {
      "cell_type": "markdown",
      "metadata": {
        "id": "LzcTgVn59jua"
      },
      "source": [
        "## 모델 하이퍼파라미터 정의"
      ]
    },
    {
      "cell_type": "code",
      "metadata": {
        "id": "r35h7bTS9aOg"
      },
      "source": [
        "model_name = 'nsmc_cnn'\n",
        "BATCH_SIZE = 512\n",
        "NUM_EPOCHS = 10\n",
        "VALID_SPLIT = 0.2\n",
        "MAX_LEN = train_input.shape[1]\n",
        "\n",
        "kargs = {'model_name': model_name,\n",
        "        'vocab_size': prepro_configs['vocab_size'],\n",
        "        'embedding_size': 128,\n",
        "        'num_filters': 100,\n",
        "        'dropout_rate': 0.5,\n",
        "        'hidden_dimension': 250,\n",
        "        'output_dimension':1}"
      ],
      "execution_count": 4,
      "outputs": []
    },
    {
      "cell_type": "markdown",
      "metadata": {
        "id": "VlgJqdk09sCC"
      },
      "source": [
        "## 모델 정의"
      ]
    },
    {
      "cell_type": "code",
      "metadata": {
        "id": "Jm4GWHzk9p6x"
      },
      "source": [
        "class CNNClassifier(tf.keras.Model):\n",
        "    def __init__(self, **kargs):\n",
        "        super(CNNClassifier, self).__init__(name=kargs['model_name'])\n",
        "        self.embedding = layers.Embedding(input_dim=kargs['vocab_size'],\n",
        "                                     output_dim=kargs['embedding_size'])\n",
        "        self.conv_list = [layers.Conv1D(filters=kargs['num_filters'],\n",
        "                                   kernel_size=kernel_size,\n",
        "                                   padding='valid',\n",
        "                                   activation=tf.keras.activations.relu,\n",
        "                                   kernel_constraint=tf.keras.constraints.MaxNorm(max_value=3.))\n",
        "                     for kernel_size in [3,4,5]]\n",
        "        self.pooling = layers.GlobalMaxPooling1D()\n",
        "        self.dropout = layers.Dropout(kargs['dropout_rate'])\n",
        "        self.fc1 = layers.Dense(units=kargs['hidden_dimension'],\n",
        "                           activation=tf.keras.activations.relu,\n",
        "                           kernel_constraint=tf.keras.constraints.MaxNorm(max_value=3.))\n",
        "        self.fc2 = layers.Dense(units=kargs['output_dimension'],\n",
        "                           activation=tf.keras.activations.sigmoid,\n",
        "                           kernel_constraint=tf.keras.constraints.MaxNorm(max_value=3.))\n",
        "    \n",
        "    def call(self, x):\n",
        "        x = self.embedding(x)\n",
        "        x = self.dropout(x)\n",
        "        x = tf.concat([self.pooling(conv(x)) for conv in self.conv_list], axis=-1)\n",
        "        x = self.fc1(x)\n",
        "        x = self.fc2(x)\n",
        "        \n",
        "        return x"
      ],
      "execution_count": 5,
      "outputs": []
    },
    {
      "cell_type": "code",
      "metadata": {
        "id": "KaAkHfGu91rb"
      },
      "source": [
        "model = CNNClassifier(**kargs)\n",
        "\n",
        "model.compile(optimizer='adam', loss='binary_crossentropy', metrics=['accuracy'])\n",
        "# model.compile(optimizer=tf.keras.optimizers.Adam(),\n",
        "#               loss=tf.keras.losses.BinaryCrossentropy(),\n",
        "#               metrics=[tf.keras.metrics.BinaryAccuracy(name='accuracy')])"
      ],
      "execution_count": 6,
      "outputs": []
    },
    {
      "cell_type": "code",
      "metadata": {
        "id": "faBwFBXW-Ii6"
      },
      "source": [
        "es = EarlyStopping(monitor='val_accuracy', min_delta=0.0001,patience=2)\n",
        "checkpoint_path = DATA_PATH + '/weights_cnn.h5'\n",
        "mc = ModelCheckpoint(checkpoint_path, monitor='val_accuracy', verbose=1, save_best_only=True, save_weights_only=True)"
      ],
      "execution_count": 7,
      "outputs": []
    },
    {
      "cell_type": "markdown",
      "metadata": {
        "id": "MIPMG4Ze-LRS"
      },
      "source": [
        "## 모델 학습 \n",
        "- GPU 사용 : 런타임 -> 런타임 유형 변경 -> GPU"
      ]
    },
    {
      "cell_type": "code",
      "metadata": {
        "id": "AkL0jMLE-L6O",
        "colab": {
          "base_uri": "https://localhost:8080/"
        },
        "outputId": "e986f0c3-cbf0-4061-881c-e421180afeb8"
      },
      "source": [
        "history = model.fit(train_input, train_label, batch_size=BATCH_SIZE, epochs=NUM_EPOCHS,\n",
        "                    validation_split=VALID_SPLIT, callbacks=[es, mc])"
      ],
      "execution_count": 8,
      "outputs": [
        {
          "output_type": "stream",
          "text": [
            "Epoch 1/10\n",
            "235/235 [==============================] - 48s 61ms/step - loss: 0.5478 - accuracy: 0.6963 - val_loss: 0.3944 - val_accuracy: 0.8220\n",
            "\n",
            "Epoch 00001: val_accuracy improved from -inf to 0.82197, saving model to /content/drive/MyDrive/nlpdata/nsmc/weights_cnn.h5\n",
            "Epoch 2/10\n",
            "235/235 [==============================] - 14s 59ms/step - loss: 0.3485 - accuracy: 0.8480 - val_loss: 0.3855 - val_accuracy: 0.8264\n",
            "\n",
            "Epoch 00002: val_accuracy improved from 0.82197 to 0.82643, saving model to /content/drive/MyDrive/nlpdata/nsmc/weights_cnn.h5\n",
            "Epoch 3/10\n",
            "235/235 [==============================] - 14s 59ms/step - loss: 0.2923 - accuracy: 0.8770 - val_loss: 0.3994 - val_accuracy: 0.8248\n",
            "\n",
            "Epoch 00003: val_accuracy did not improve from 0.82643\n",
            "Epoch 4/10\n",
            "235/235 [==============================] - 14s 59ms/step - loss: 0.2493 - accuracy: 0.8980 - val_loss: 0.4254 - val_accuracy: 0.8161\n",
            "\n",
            "Epoch 00004: val_accuracy did not improve from 0.82643\n"
          ],
          "name": "stdout"
        }
      ]
    },
    {
      "cell_type": "markdown",
      "metadata": {
        "id": "6CGcAchR-qkC"
      },
      "source": [
        "## 결과 플롯"
      ]
    },
    {
      "cell_type": "code",
      "metadata": {
        "id": "t7sxEJCC-rZw",
        "colab": {
          "base_uri": "https://localhost:8080/",
          "height": 279
        },
        "outputId": "7e097193-7c50-4084-ab7d-2b76ebc8e376"
      },
      "source": [
        "plt.plot(history.history['accuracy'])\n",
        "plt.plot(history.history['val_accuracy'])\n",
        "plt.xlabel(\"Epochs\")\n",
        "plt.ylabel('Accuracy')\n",
        "plt.legend(['accuracy', 'val_accuracy'])\n",
        "plt.show()"
      ],
      "execution_count": 9,
      "outputs": [
        {
          "output_type": "display_data",
          "data": {
            "image/png": "[encoded data removed]",
            "text/plain": [
              "<Figure size 432x288 with 1 Axes>"
            ]
          },
          "metadata": {
            "tags": [],
            "needs_background": "light"
          }
        }
      ]
    },
    {
      "cell_type": "markdown",
      "metadata": {
        "id": "TVF3O9LN-zaR"
      },
      "source": [
        "## 모델 평가"
      ]
    },
    {
      "cell_type": "code",
      "metadata": {
        "id": "ZEqg49WQ-7mh"
      },
      "source": [
        "test_input = np.load(open(DATA_PATH + 'test_input.npy', 'rb'))\n",
        "test_input = pad_sequences(test_input, maxlen=test_input.shape[1])\n",
        "test_label_data = np.load(open(DATA_PATH + 'test_label.npy', 'rb'))\n",
        "\n",
        "model.load_weights(os.path.join(DATA_PATH, 'weights_cnn.h5'))"
      ],
      "execution_count": 10,
      "outputs": []
    },
    {
      "cell_type": "code",
      "metadata": {
        "id": "ob5PgDjA_Syb",
        "colab": {
          "base_uri": "https://localhost:8080/"
        },
        "outputId": "0b6ca86b-10c3-410e-e691-562baab9503c"
      },
      "source": [
        "model.evaluate(test_input, test_label_data)"
      ],
      "execution_count": 11,
      "outputs": [
        {
          "output_type": "stream",
          "text": [
            "1563/1563 [==============================] - 3s 2ms/step - loss: 0.3888 - accuracy: 0.8245\n"
          ],
          "name": "stdout"
        },
        {
          "output_type": "execute_result",
          "data": {
            "text/plain": [
              "[0.3888092637062073, 0.8245199918746948]"
            ]
          },
          "metadata": {
            "tags": []
          },
          "execution_count": 11
        }
      ]
    }
  ]
}