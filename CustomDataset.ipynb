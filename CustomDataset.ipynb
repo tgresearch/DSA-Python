{
  "nbformat": 4,
  "nbformat_minor": 0,
  "metadata": {
    "colab": {
      "name": "CustomDataset.ipynb",
      "provenance": [],
      "collapsed_sections": [],
      "include_colab_link": true
    },
    "kernelspec": {
      "name": "python3",
      "display_name": "Python 3"
    },
    "language_info": {
      "name": "python"
    }
  },
  "cells": [
    {
      "cell_type": "markdown",
      "metadata": {
        "id": "view-in-github",
        "colab_type": "text"
      },
      "source": [
        "<a href=\"https://colab.research.google.com/github/tgresearch/DSA-Python/blob/main/CustomDataset.ipynb\" target=\"_parent\"><img src=\"https://colab.research.google.com/assets/colab-badge.svg\" alt=\"Open In Colab\"/></a>"
      ]
    },
    {
      "cell_type": "markdown",
      "metadata": {
        "id": "RaDJeIQl2AFY"
      },
      "source": [
        "출처 : https://wikidocs.net/57165"
      ]
    },
    {
      "cell_type": "markdown",
      "metadata": {
        "id": "qye11R741_k5"
      },
      "source": [
        "- 파이토치에서는 데이터셋을 좀 더 쉽게 다룰 수 있도록 유용한 도구로서 torch.utils.data.Dataset과 torch.utils.data.DataLoader를 제공합니다. \n",
        "- 이를 사용하면 미니 배치 학습, 데이터 셔플(shuffle), 병렬 처리까지 간단히 수행할 수 있습니다. 기본적인 사용 방법은 Dataset을 정의하고, 이를 DataLoader에 전달하는 것입니다. "
      ]
    },
    {
      "cell_type": "markdown",
      "metadata": {
        "id": "6SCI294q2W1Q"
      },
      "source": [
        "## 1. 커스텀 데이터셋(Custom Dataset)\n",
        "torch.utils.data.Dataset은 파이토치에서 데이터셋을 제공하는 추상 클래스입니다.   \n",
        "Dataset을 상속받아 다음 메소드들을 오버라이드 하여 커스텀 데이터셋을 만들어보겠습니다.  \n",
        "커스텀 데이터셋을 만들 때, 일단 가장 기본적인 뼈대는 아래와 같습니다. "
      ]
    },
    {
      "cell_type": "code",
      "metadata": {
        "id": "mWvpvRi9Rysy"
      },
      "source": [
        "import torch\n",
        "import torch.nn.functional as F\n",
        "from torch.utils.data import Dataset\n",
        "from torch.utils.data import DataLoader"
      ],
      "execution_count": 1,
      "outputs": []
    },
    {
      "cell_type": "code",
      "metadata": {
        "id": "js_KzOuW180P"
      },
      "source": [
        "class CustomDataset(torch.utils.data.Dataset): \n",
        "    def __init__(self):\n",
        "        #  데이터셋의 전처리를 해주는 부분\n",
        "        pass\n",
        "\n",
        "    def __len__(self):\n",
        "        #  데이터셋의 길이. 즉, 총 샘플의 수를 적어주는 부분\n",
        "        pass\n",
        "\n",
        "    def __getitem__(self, idx):\n",
        "        #  데이터셋에서 특정 1개의 샘플을 가져오는 함수\n",
        "        pass "
      ],
      "execution_count": 2,
      "outputs": []
    },
    {
      "cell_type": "markdown",
      "metadata": {
        "id": "WyQdjYbS2dH5"
      },
      "source": [
        "# 2. 커스텀 데이터셋(Custom Dataset)으로 선형 회귀 구현하기"
      ]
    },
    {
      "cell_type": "code",
      "metadata": {
        "id": "WQKHMYjn2Zm6"
      },
      "source": [
        "# Dataset 상속\n",
        "class CustomDataset(Dataset): \n",
        "    def __init__(self):\n",
        "        self.x_data = [[73, 80, 75],\n",
        "                       [93, 88, 93],\n",
        "                       [89, 91, 90],\n",
        "                       [96, 98, 100],\n",
        "                       [73, 66, 70]]\n",
        "        self.y_data = [[152], [185], [180], [196], [142]]\n",
        "\n",
        "    # 총 데이터의 개수를 리턴\n",
        "    def __len__(self): \n",
        "        return len(self.x_data)\n",
        "\n",
        "    # 인덱스를 입력받아 그에 맵핑되는 입출력 데이터를 파이토치의 Tensor 형태로 리턴\n",
        "    def __getitem__(self, idx): \n",
        "        x = torch.FloatTensor(self.x_data[idx])\n",
        "        y = torch.FloatTensor(self.y_data[idx])\n",
        "        return x, y"
      ],
      "execution_count": 3,
      "outputs": []
    },
    {
      "cell_type": "code",
      "metadata": {
        "id": "TPiu1VV12kxg"
      },
      "source": [
        "dataset = CustomDataset()\n",
        "dataloader = DataLoader(dataset, batch_size=2, shuffle=True)"
      ],
      "execution_count": 4,
      "outputs": []
    },
    {
      "cell_type": "code",
      "metadata": {
        "id": "q7wj7jFFhIfy"
      },
      "source": [
        "model = torch.nn.Linear(3,1)\n",
        "optimizer = torch.optim.SGD(model.parameters(), lr=1e-5) "
      ],
      "execution_count": 5,
      "outputs": []
    },
    {
      "cell_type": "code",
      "metadata": {
        "colab": {
          "base_uri": "https://localhost:8080/"
        },
        "id": "NFigSO1VSXsj",
        "outputId": "379d58c9-0f9f-4b88-8a05-a8cf6879595d"
      },
      "source": [
        "nb_epochs = 20\n",
        "for epoch in range(nb_epochs + 1):\n",
        "    for batch_idx, samples in enumerate(dataloader):\n",
        "        # print(batch_idx)\n",
        "        # print(samples)\n",
        "        x_train, y_train = samples\n",
        "        # H(x) 계산\n",
        "        prediction = model(x_train)\n",
        "\n",
        "        # cost 계산\n",
        "        cost = F.mse_loss(prediction, y_train)\n",
        "\n",
        "        # cost로 H(x) 계산\n",
        "        optimizer.zero_grad()\n",
        "        cost.backward()\n",
        "        optimizer.step()\n",
        "\n",
        "        print('Epoch {:4d}/{} Batch {}/{} Cost: {:.6f}'.format(\n",
        "        epoch, nb_epochs, batch_idx+1, len(dataloader),\n",
        "        cost.item()\n",
        "        ))"
      ],
      "execution_count": 6,
      "outputs": [
        {
          "output_type": "stream",
          "text": [
            "Epoch    0/20 Batch 1/3 Cost: 22514.181641\n",
            "Epoch    0/20 Batch 2/3 Cost: 6302.305664\n",
            "Epoch    0/20 Batch 3/3 Cost: 3306.342041\n",
            "Epoch    1/20 Batch 1/3 Cost: 588.662964\n",
            "Epoch    1/20 Batch 2/3 Cost: 152.352905\n",
            "Epoch    1/20 Batch 3/3 Cost: 98.925629\n",
            "Epoch    2/20 Batch 1/3 Cost: 25.461926\n",
            "Epoch    2/20 Batch 2/3 Cost: 18.941769\n",
            "Epoch    2/20 Batch 3/3 Cost: 0.214112\n",
            "Epoch    3/20 Batch 1/3 Cost: 11.259942\n",
            "Epoch    3/20 Batch 2/3 Cost: 17.758282\n",
            "Epoch    3/20 Batch 3/3 Cost: 1.723858\n",
            "Epoch    4/20 Batch 1/3 Cost: 12.799264\n",
            "Epoch    4/20 Batch 2/3 Cost: 8.059900\n",
            "Epoch    4/20 Batch 3/3 Cost: 18.815441\n",
            "Epoch    5/20 Batch 1/3 Cost: 0.146925\n",
            "Epoch    5/20 Batch 2/3 Cost: 19.185759\n",
            "Epoch    5/20 Batch 3/3 Cost: 20.644804\n",
            "Epoch    6/20 Batch 1/3 Cost: 6.416883\n",
            "Epoch    6/20 Batch 2/3 Cost: 10.826305\n",
            "Epoch    6/20 Batch 3/3 Cost: 23.459698\n",
            "Epoch    7/20 Batch 1/3 Cost: 5.438130\n",
            "Epoch    7/20 Batch 2/3 Cost: 17.167393\n",
            "Epoch    7/20 Batch 3/3 Cost: 17.021416\n",
            "Epoch    8/20 Batch 1/3 Cost: 17.959667\n",
            "Epoch    8/20 Batch 2/3 Cost: 18.900715\n",
            "Epoch    8/20 Batch 3/3 Cost: 11.210379\n",
            "Epoch    9/20 Batch 1/3 Cost: 17.147957\n",
            "Epoch    9/20 Batch 2/3 Cost: 20.173565\n",
            "Epoch    9/20 Batch 3/3 Cost: 1.068139\n",
            "Epoch   10/20 Batch 1/3 Cost: 22.750282\n",
            "Epoch   10/20 Batch 2/3 Cost: 8.217544\n",
            "Epoch   10/20 Batch 3/3 Cost: 13.804939\n",
            "Epoch   11/20 Batch 1/3 Cost: 19.747015\n",
            "Epoch   11/20 Batch 2/3 Cost: 0.227605\n",
            "Epoch   11/20 Batch 3/3 Cost: 24.466530\n",
            "Epoch   12/20 Batch 1/3 Cost: 7.329572\n",
            "Epoch   12/20 Batch 2/3 Cost: 9.654528\n",
            "Epoch   12/20 Batch 3/3 Cost: 22.856850\n",
            "Epoch   13/20 Batch 1/3 Cost: 13.287962\n",
            "Epoch   13/20 Batch 2/3 Cost: 8.146377\n",
            "Epoch   13/20 Batch 3/3 Cost: 18.044086\n",
            "Epoch   14/20 Batch 1/3 Cost: 26.986259\n",
            "Epoch   14/20 Batch 2/3 Cost: 13.589022\n",
            "Epoch   14/20 Batch 3/3 Cost: 1.359806\n",
            "Epoch   15/20 Batch 1/3 Cost: 15.675317\n",
            "Epoch   15/20 Batch 2/3 Cost: 12.252900\n",
            "Epoch   15/20 Batch 3/3 Cost: 3.803381\n",
            "Epoch   16/20 Batch 1/3 Cost: 5.593547\n",
            "Epoch   16/20 Batch 2/3 Cost: 30.682835\n",
            "Epoch   16/20 Batch 3/3 Cost: 4.274829\n",
            "Epoch   17/20 Batch 1/3 Cost: 6.599351\n",
            "Epoch   17/20 Batch 2/3 Cost: 27.359634\n",
            "Epoch   17/20 Batch 3/3 Cost: 7.299627\n",
            "Epoch   18/20 Batch 1/3 Cost: 8.987673\n",
            "Epoch   18/20 Batch 2/3 Cost: 9.473930\n",
            "Epoch   18/20 Batch 3/3 Cost: 27.167547\n",
            "Epoch   19/20 Batch 1/3 Cost: 17.662302\n",
            "Epoch   19/20 Batch 2/3 Cost: 7.251470\n",
            "Epoch   19/20 Batch 3/3 Cost: 4.731899\n",
            "Epoch   20/20 Batch 1/3 Cost: 11.468702\n",
            "Epoch   20/20 Batch 2/3 Cost: 7.588524\n",
            "Epoch   20/20 Batch 3/3 Cost: 18.910076\n"
          ],
          "name": "stdout"
        }
      ]
    },
    {
      "cell_type": "code",
      "metadata": {
        "colab": {
          "base_uri": "https://localhost:8080/"
        },
        "id": "Ih8RBdu7Sfbi",
        "outputId": "2b8db6c2-de3b-4598-8264-5e64bc7b5600"
      },
      "source": [
        "# 임의의 입력 [73, 80, 75]를 선언\n",
        "new_var =  torch.FloatTensor([[73, 80, 75]]) \n",
        "# 입력한 값 [73, 80, 75]에 대해서 예측값 y를 리턴받아서 pred_y에 저장\n",
        "pred_y = model(new_var) \n",
        "print(\"훈련 후 입력이 73, 80, 75일 때의 예측값 :\", pred_y) "
      ],
      "execution_count": 7,
      "outputs": [
        {
          "output_type": "stream",
          "text": [
            "훈련 후 입력이 73, 80, 75일 때의 예측값 : tensor([[154.8392]], grad_fn=<AddmmBackward>)\n"
          ],
          "name": "stdout"
        }
      ]
    },
    {
      "cell_type": "code",
      "metadata": {
        "id": "4UVYr3JrSrbt"
      },
      "source": [
        ""
      ],
      "execution_count": 7,
      "outputs": []
    }
  ]
}