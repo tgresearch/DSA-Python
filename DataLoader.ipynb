{
  "nbformat": 4,
  "nbformat_minor": 0,
  "metadata": {
    "colab": {
      "name": "DataLoader.ipynb",
      "provenance": [],
      "include_colab_link": true
    },
    "kernelspec": {
      "name": "python3",
      "display_name": "Python 3"
    },
    "language_info": {
      "name": "python"
    }
  },
  "cells": [
    {
      "cell_type": "markdown",
      "metadata": {
        "id": "view-in-github",
        "colab_type": "text"
      },
      "source": [
        "<a href=\"https://colab.research.google.com/github/tgresearch/DSA-Python/blob/main/DataLoader.ipynb\" target=\"_parent\"><img src=\"https://colab.research.google.com/assets/colab-badge.svg\" alt=\"Open In Colab\"/></a>"
      ]
    },
    {
      "cell_type": "markdown",
      "metadata": {
        "id": "RaDJeIQl2AFY"
      },
      "source": [
        "출처 : http://www.gisdeveloper.co.kr/?p=8615"
      ]
    },
    {
      "cell_type": "markdown",
      "metadata": {
        "id": "qye11R741_k5"
      },
      "source": [
        "- PyTorch의 Dataset과 DataLoader를 이용하면 학습을 위한 방대한 데이터를 미니배치 단위로 처리할 수 있고, 데이터를 무작위로 섞음으로써 학습의 효율성을 향상시킬 수 있다.  \n",
        "- 또한 데이터를 여러개의 GPU를 사용해 병렬처리로 학습할 수도 있다. "
      ]
    },
    {
      "cell_type": "markdown",
      "metadata": {
        "id": "6SCI294q2W1Q"
      },
      "source": [
        "## DataLoader 미사용\n",
        "아래의 코드는 Dataset과 DataLoader를 사용하지 않고 매 에폭마다 학습 데이터 전체를 입력해 학습하는 코드이다."
      ]
    },
    {
      "cell_type": "code",
      "metadata": {
        "colab": {
          "base_uri": "https://localhost:8080/",
          "height": 265
        },
        "id": "js_KzOuW180P",
        "outputId": "36145900-4d0e-475d-de18-c89cbf697133"
      },
      "source": [
        "import torch\n",
        "from torch import nn, optim\n",
        "from sklearn.datasets import load_iris\n",
        "from torch.utils.data import  TensorDataset, DataLoader\n",
        " \n",
        "iris = load_iris()\n",
        " \n",
        "X = iris.data[:100]\n",
        "y = iris.target[:100]\n",
        " \n",
        "X = torch.tensor(X, dtype=torch.float32)\n",
        "y = torch.tensor(y, dtype=torch.float32)\n",
        " \n",
        "net = nn.Linear(4, 1)\n",
        "loss_fn = nn.BCEWithLogitsLoss()\n",
        "optimizer = optim.SGD(net.parameters(), lr=0.25)\n",
        " \n",
        "losses = []\n",
        " \n",
        "for epoc in range(100):\n",
        "    batch_loss = 0.0\n",
        "    optimizer.zero_grad()\n",
        "    y_pred = net(X)\n",
        "    loss = loss_fn(y_pred.view_as(y), y)\n",
        "    loss.backward()\n",
        "    optimizer.step()\n",
        "    batch_loss += loss.item()\n",
        "    \n",
        "    losses.append(batch_loss)\n",
        " \n",
        "from matplotlib import pyplot as plt\n",
        "plt.plot(losses)\n",
        "plt.show()"
      ],
      "execution_count": 1,
      "outputs": [
        {
          "output_type": "display_data",
          "data": {
            "image/png": "[encoded data removed]",
            "text/plain": [
              "<Figure size 432x288 with 1 Axes>"
            ]
          },
          "metadata": {
            "tags": [],
            "needs_background": "light"
          }
        }
      ]
    },
    {
      "cell_type": "markdown",
      "metadata": {
        "id": "WyQdjYbS2dH5"
      },
      "source": [
        "# DataLoader 사용\n",
        "다음 코드는 위의 코드에 대해서 Dataset과 DataLoader를 적용한 코드이다.   \n",
        "앞 코드의 하이퍼 파라메터 등에 대한 모든 조건은 동일하고 단지 미니배치를 10로 하여 학습시킨다."
      ]
    },
    {
      "cell_type": "code",
      "metadata": {
        "colab": {
          "base_uri": "https://localhost:8080/",
          "height": 265
        },
        "id": "WQKHMYjn2Zm6",
        "outputId": "9d4689cf-0f14-4185-f832-660114461a2f"
      },
      "source": [
        "import torch\n",
        "from torch import nn, optim\n",
        "from sklearn.datasets import load_iris\n",
        "from torch.utils.data import  TensorDataset, DataLoader\n",
        "\n",
        "iris = load_iris()\n",
        "\n",
        "X = iris.data[:100]\n",
        "y = iris.target[:100]\n",
        "\n",
        "X = torch.tensor(X, dtype=torch.float32)\n",
        "y = torch.tensor(y, dtype=torch.float32)\n",
        "\n",
        "ds = TensorDataset(X, y)\n",
        "loader = DataLoader(ds, batch_size=10, shuffle=True)\n",
        "\n",
        "net = nn.Linear(4, 1)\n",
        "loss_fn = nn.BCEWithLogitsLoss()\n",
        "optimizer = optim.SGD(net.parameters(), lr=0.25)\n",
        "\n",
        "losses = []\n",
        "\n",
        "for epoc in range(100):\n",
        "    batch_loss = 0.0\n",
        "    for xx, yy in loader:\n",
        "        optimizer.zero_grad()\n",
        "        y_pred = net(xx)\n",
        "        loss = loss_fn(y_pred.view_as(yy), yy)\n",
        "        loss.backward()\n",
        "        optimizer.step()\n",
        "        batch_loss += loss.item()\n",
        "    losses.append(batch_loss)\n",
        "\n",
        "from matplotlib import pyplot as plt\n",
        "\n",
        "plt.plot(losses)\n",
        "plt.show()"
      ],
      "execution_count": 2,
      "outputs": [
        {
          "output_type": "display_data",
          "data": {
            "image/png": "[encoded data removed]",
            "text/plain": [
              "<Figure size 432x288 with 1 Axes>"
            ]
          },
          "metadata": {
            "tags": [],
            "needs_background": "light"
          }
        }
      ]
    },
    {
      "cell_type": "code",
      "metadata": {
        "id": "TPiu1VV12kxg"
      },
      "source": [
        ""
      ],
      "execution_count": 2,
      "outputs": []
    }
  ]
}